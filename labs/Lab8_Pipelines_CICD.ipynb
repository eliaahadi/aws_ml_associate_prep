{
 "cells": [
  {
   "cell_type": "markdown",
   "id": "cd6e9b69",
   "metadata": {},
   "source": [
    "# Lab 8 — Pipelines CI/CD (SageMaker Pipelines)"
   ]
  },
  {
   "cell_type": "code",
   "execution_count": null,
   "id": "8a29485f",
   "metadata": {},
   "outputs": [],
   "source": [
    "import sagemaker\n",
    "from sagemaker.workflow.pipeline import Pipeline\n",
    "from sagemaker.workflow.steps import ProcessingStep, TrainingStep\n",
    "from sagemaker.workflow.parameters import ParameterString\n",
    "from sagemaker.sklearn.processing import SKLearnProcessor\n",
    "from sagemaker.estimator import Estimator\n",
    "from sagemaker import image_uris\n",
    "sess=sagemaker.Session(); role=sagemaker.get_execution_role(); region=sess.boto_region_name\n",
    "bucket=sess.default_bucket(); input_data=ParameterString(name='InputData', default_value=f's3://{bucket}/ml-assoc/l2/output/')\n",
    "proc=SKLearnProcessor(framework_version='1.2-1', role=role, instance_type='ml.m5.large', instance_count=1)\n",
    "step_process=ProcessingStep(name='ProcessData', processor=proc, code='/tmp/processing_l2.py')\n",
    "img=image_uris.retrieve('xgboost', region, '1.7-1')\n",
    "xgb=Estimator(image_uri=img, role=role, instance_count=1, instance_type='ml.m5.large', output_path=f's3://{bucket}/ml-assoc/l8/model/')\n",
    "step_train=TrainingStep(name='TrainModel', estimator=xgb, inputs={})\n",
    "pipeline=Pipeline(name='MLAssocPipeline', parameters=[input_data], steps=[step_process, step_train])\n",
    "pipeline.upsert(role_arn=role); exe=pipeline.start(parameters={'InputData': input_data.default_value})\n",
    "print('Pipeline execution:', exe.arn)"
   ]
  }
 ],
 "metadata": {},
 "nbformat": 4,
 "nbformat_minor": 5
}
