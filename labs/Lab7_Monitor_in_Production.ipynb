{
 "cells": [
  {
   "cell_type": "markdown",
   "id": "ed3c3a84",
   "metadata": {},
   "source": [
    "# Lab 7 — Monitor in Production (Model Monitor)"
   ]
  },
  {
   "cell_type": "code",
   "execution_count": null,
   "id": "7a1e6c34",
   "metadata": {},
   "outputs": [],
   "source": [
    "LAB_BUCKET='s3://CHANGE-ME-BUCKET'; ENDPOINT_NAME='CHANGE-ME-ENDPOINT'"
   ]
  },
  {
   "cell_type": "code",
   "execution_count": null,
   "id": "74305c97",
   "metadata": {},
   "outputs": [],
   "source": [
    "import sagemaker\n",
    "from sagemaker.model_monitor import DefaultModelMonitor\n",
    "sess=sagemaker.Session(); role=sagemaker.get_execution_role(); bucket=LAB_BUCKET.replace('s3://','')\n",
    "mon=DefaultModelMonitor(role=role, instance_count=1, instance_type='ml.m5.large')\n",
    "baseline=f's3://{bucket}/ml-assoc/l7/baseline/'\n",
    "mon.suggest_baseline(baseline_dataset=f's3://{bucket}/ml-assoc/l2/output/X_test.csv', dataset_format={'csv': {'header': True}}, output_s3_uri=baseline)"
   ]
  },
  {
   "cell_type": "code",
   "execution_count": null,
   "id": "8628413c",
   "metadata": {},
   "outputs": [],
   "source": [
    "mon.create_monitoring_schedule(monitor_schedule_name='ml-assoc-l7-sched', endpoint_input=ENDPOINT_NAME,\n",
    "    output_s3_uri=f's3://{bucket}/ml-assoc/l7/reports/', statistics=baseline+'statistics.json', constraints=baseline+'constraints.json',\n",
    "    schedule_cron_expression='cron(0 3 * * ? *)')\n",
    "print('Schedule created')"
   ]
  }
 ],
 "metadata": {},
 "nbformat": 4,
 "nbformat_minor": 5
}
