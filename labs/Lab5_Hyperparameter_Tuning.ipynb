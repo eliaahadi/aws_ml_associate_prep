{
 "cells": [
  {
   "cell_type": "markdown",
   "id": "5719e124",
   "metadata": {},
   "source": [
    "# Lab 5 — Hyperparameter Tuning (AMT)"
   ]
  },
  {
   "cell_type": "code",
   "execution_count": null,
   "id": "053efa62",
   "metadata": {},
   "outputs": [],
   "source": [
    "LAB_BUCKET='s3://CHANGE-ME-BUCKET'; LAB_PREFIX='ml-assoc/l5'; TRAIN_PREFIX='ml-assoc/l2/output/'"
   ]
  },
  {
   "cell_type": "code",
   "execution_count": null,
   "id": "fad20153",
   "metadata": {},
   "outputs": [],
   "source": [
    "import sagemaker\n",
    "from sagemaker.estimator import Estimator\n",
    "from sagemaker.tuner import IntegerParameter, ContinuousParameter, HyperparameterTuner\n",
    "from sagemaker import image_uris\n",
    "sess=sagemaker.Session(); role=sagemaker.get_execution_role(); image=image_uris.retrieve('xgboost', sess.boto_region_name, '1.7-1')\n",
    "bucket=LAB_BUCKET.replace('s3://','')\n",
    "est=Estimator(image_uri=image, role=role, instance_count=1, instance_type='ml.m5.large', output_path=f's3://{bucket}/{LAB_PREFIX}/model/')\n",
    "est.set_hyperparameters(objective='binary:logistic', num_round=200)\n",
    "hp={'max_depth': IntegerParameter(3,8), 'eta': ContinuousParameter(0.01,0.3), 'min_child_weight': IntegerParameter(1,8)}\n",
    "tuner=HyperparameterTuner(est, 'validation:auc', hp, objective_type='Maximize', max_jobs=8, max_parallel_jobs=2, early_stopping_type='Auto')\n",
    "tuner.fit({'train': f's3://{bucket}/{TRAIN_PREFIX}'})\n",
    "print('Tuning launched.')"
   ]
  }
 ],
 "metadata": {},
 "nbformat": 4,
 "nbformat_minor": 5
}
