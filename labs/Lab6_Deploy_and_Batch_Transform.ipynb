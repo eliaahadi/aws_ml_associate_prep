{
 "cells": [
  {
   "cell_type": "markdown",
   "id": "27005b15",
   "metadata": {},
   "source": [
    "# Lab 6 — Deploy & Batch Transform"
   ]
  },
  {
   "cell_type": "code",
   "execution_count": null,
   "id": "35a8afb5",
   "metadata": {},
   "outputs": [],
   "source": [
    "LAB_BUCKET='s3://CHANGE-ME-BUCKET'\n",
    "MODEL_ARTIFACT='s3://CHANGE-ME-PATH/model.tar.gz'\n",
    "BATCH_INPUT='s3://CHANGE-ME-BUCKET/path/to/batch.csv'"
   ]
  },
  {
   "cell_type": "code",
   "execution_count": null,
   "id": "70ebe999",
   "metadata": {},
   "outputs": [],
   "source": [
    "import sagemaker\n",
    "from sagemaker.xgboost.model import XGBoostModel\n",
    "sess=sagemaker.Session(); role=sagemaker.get_execution_role()\n",
    "model=XGBoostModel(model_data=MODEL_ARTIFACT, role=role, framework_version='1.7-1')\n",
    "predictor=model.deploy(instance_type='ml.m5.large', initial_instance_count=1)\n",
    "print('Endpoint:', predictor.endpoint_name)"
   ]
  },
  {
   "cell_type": "code",
   "execution_count": null,
   "id": "42ce9bc0",
   "metadata": {},
   "outputs": [],
   "source": [
    "transformer=model.transformer(instance_type='ml.m5.large', instance_count=1, strategy='MultiRecord')\n",
    "transformer.transform(BATCH_INPUT, content_type='text/csv', split_type='Line', wait=True)\n",
    "print('Batch transform done')"
   ]
  },
  {
   "cell_type": "code",
   "execution_count": null,
   "id": "c7134810",
   "metadata": {},
   "outputs": [],
   "source": [
    "predictor.delete_endpoint()"
   ]
  }
 ],
 "metadata": {},
 "nbformat": 4,
 "nbformat_minor": 5
}
