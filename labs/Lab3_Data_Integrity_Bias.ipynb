{
 "cells": [
  {
   "cell_type": "markdown",
   "id": "c9d5dffc",
   "metadata": {},
   "source": [
    "# Lab 3 — Data Integrity & Bias"
   ]
  },
  {
   "cell_type": "code",
   "execution_count": null,
   "id": "c3829437",
   "metadata": {},
   "outputs": [],
   "source": [
    "LAB_BUCKET='s3://CHANGE-ME-BUCKET'; LAB_PREFIX='ml-assoc/l3'; print(LAB_BUCKET)"
   ]
  },
  {
   "cell_type": "markdown",
   "id": "6c603eda",
   "metadata": {},
   "source": [
    "### Clarify pre-training bias"
   ]
  },
  {
   "cell_type": "code",
   "execution_count": null,
   "id": "5b79d446",
   "metadata": {},
   "outputs": [],
   "source": [
    "import sagemaker\n",
    "from sagemaker import clarify\n",
    "sess=sagemaker.Session(); role=sagemaker.get_execution_role(); bucket=LAB_BUCKET.replace('s3://','')\n",
    "data_cfg=clarify.DataConfig(s3_data_input_path=f's3://{bucket}/ml-assoc/l1/data/customers.csv',\n",
    "    s3_output_path=f's3://{bucket}/{LAB_PREFIX}/clarify', label='churn', headers=None)\n",
    "bias_cfg=clarify.BiasConfig(label_values_or_threshold=[1], facet_name='state')\n",
    "proc=clarify.SageMakerClarifyProcessor(role=role, instance_count=1, instance_type='ml.m5.large')\n",
    "proc.run_pre_training_bias(data_config=data_cfg, data_bias_config=bias_cfg)"
   ]
  }
 ],
 "metadata": {},
 "nbformat": 4,
 "nbformat_minor": 5
}
