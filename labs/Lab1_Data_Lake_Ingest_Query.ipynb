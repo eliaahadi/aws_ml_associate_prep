{
 "cells": [
  {
   "cell_type": "markdown",
   "id": "d1918b48",
   "metadata": {},
   "source": [
    "# Lab 1 — Data Lake Ingest & Query (AWS ML Associate)\n",
    "\n",
    "This notebook guides you through:\n",
    "1) Generate sample CSV + Parquet data\n",
    "2) Upload to S3\n",
    "3) Create Glue Database + Crawler\n",
    "4) Query with Athena\n",
    "\n",
    "⚠️ **Prereqs**\n",
    "- AWS CLI configured (`aws configure`)\n",
    "- IAM permissions for S3, Glue, Athena\n",
    "- Define an S3 bucket you own in `LAB_BUCKET`\n"
   ]
  },
  {
   "cell_type": "code",
   "execution_count": null,
   "id": "7be06427",
   "metadata": {},
   "outputs": [],
   "source": [
    "# --- 0) Configure env vars ---\n",
    "import os\n",
    "LAB_BUCKET = 's3://CHANGE-ME-BUCKET'  # TODO: replace with your bucket\n",
    "LAB_PREFIX = 'ml-assoc/l1'\n",
    "print('LAB_BUCKET =', LAB_BUCKET)\n",
    "print('LAB_PREFIX =', LAB_PREFIX)\n"
   ]
  },
  {
   "cell_type": "markdown",
   "id": "599592b9",
   "metadata": {},
   "source": [
    "## 1) Generate Sample Data (CSV + Parquet)"
   ]
  },
  {
   "cell_type": "code",
   "execution_count": null,
   "id": "b9270c4a",
   "metadata": {},
   "outputs": [],
   "source": [
    "import pandas as pd, numpy as np, os\n",
    "n = 1000\n",
    "df = pd.DataFrame({\n",
    "  'customer_id': np.arange(n),\n",
    "  'age': np.random.randint(18, 80, n),\n",
    "  'income': np.random.normal(70000, 15000, n).round(2),\n",
    "  'state': np.random.choice(list('ABCDE'), n),\n",
    "  'churn': np.random.choice([0,1], n, p=[0.8,0.2])\n",
    "})\n",
    "os.makedirs('/tmp/l1', exist_ok=True)\n",
    "df.to_csv('/tmp/l1/customers.csv', index=False)\n",
    "df.to_parquet('/tmp/l1/customers.parquet', index=False)\n",
    "df.head()"
   ]
  },
  {
   "cell_type": "markdown",
   "id": "5ce8e621",
   "metadata": {},
   "source": [
    "## 2) Upload to S3"
   ]
  },
  {
   "cell_type": "code",
   "execution_count": null,
   "id": "f5462d3f",
   "metadata": {},
   "outputs": [],
   "source": [
    "!aws s3 cp /tmp/l1/ {LAB_BUCKET}/{LAB_PREFIX}/data/ --recursive"
   ]
  },
  {
   "cell_type": "markdown",
   "id": "90b2ecd7",
   "metadata": {},
   "source": [
    "## 3) Glue: Create Database + Crawler"
   ]
  },
  {
   "cell_type": "code",
   "execution_count": null,
   "id": "51d01c03",
   "metadata": {},
   "outputs": [],
   "source": [
    "import random, time, subprocess\n",
    "CRAWLER = f'l1-crawler-{random.randint(1000,9999)}'\n",
    "print('Crawler name:', CRAWLER)\n",
    "!aws glue create-database --database-input Name=l1_db || true\n",
    "!aws glue create-crawler --name {CRAWLER} --role AWSGlueServiceRoleDefault --database-name l1_db --targets S3Targets=[{{Path='{LAB_BUCKET}/{LAB_PREFIX}/data/'}}]\n",
    "!aws glue start-crawler --name {CRAWLER}"
   ]
  },
  {
   "cell_type": "markdown",
   "id": "648ccf8c",
   "metadata": {},
   "source": [
    "## 4) Athena Query"
   ]
  },
  {
   "cell_type": "code",
   "execution_count": null,
   "id": "09568e98",
   "metadata": {},
   "outputs": [],
   "source": [
    "!aws s3 mb {LAB_BUCKET}/{LAB_PREFIX}/query/ || true\n",
    "!aws athena start-query-execution --query-string \"SELECT state, AVG(income) avg_income, AVG(churn) churn_rate FROM l1_db.\\\"customers_parquet\\\" GROUP BY state;\" --work-group primary --result-configuration OutputLocation={LAB_BUCKET}/{LAB_PREFIX}/query/"
   ]
  },
  {
   "cell_type": "markdown",
   "id": "d1ddf924",
   "metadata": {},
   "source": [
    "## 5) Teardown (optional)"
   ]
  },
  {
   "cell_type": "code",
   "execution_count": null,
   "id": "ee843bd8",
   "metadata": {},
   "outputs": [],
   "source": [
    "!aws glue delete-crawler --name {CRAWLER}\n",
    "!aws s3 rm {LAB_BUCKET}/{LAB_PREFIX} --recursive"
   ]
  }
 ],
 "metadata": {},
 "nbformat": 4,
 "nbformat_minor": 5
}
