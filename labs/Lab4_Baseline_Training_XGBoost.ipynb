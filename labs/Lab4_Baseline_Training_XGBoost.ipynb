{
 "cells": [
  {
   "cell_type": "markdown",
   "id": "0b7ab24c",
   "metadata": {},
   "source": [
    "# Lab 4 — Baseline Training with XGBoost"
   ]
  },
  {
   "cell_type": "code",
   "execution_count": null,
   "id": "378e558e",
   "metadata": {},
   "outputs": [],
   "source": [
    "LAB_BUCKET='s3://CHANGE-ME-BUCKET'; LAB_PREFIX='ml-assoc/l4'; TRAIN_PREFIX='ml-assoc/l2/output/'"
   ]
  },
  {
   "cell_type": "code",
   "execution_count": null,
   "id": "7cbacbb2",
   "metadata": {},
   "outputs": [],
   "source": [
    "import sagemaker\n",
    "from sagemaker.estimator import Estimator\n",
    "from sagemaker import image_uris\n",
    "from sagemaker.inputs import TrainingInput\n",
    "sess=sagemaker.Session(); role=sagemaker.get_execution_role(); image=image_uris.retrieve('xgboost', sess.boto_region_name, '1.7-1')\n",
    "bucket=LAB_BUCKET.replace('s3://','')\n",
    "est=Estimator(image_uri=image, role=role, instance_count=1, instance_type='ml.m5.large',\n",
    "              output_path=f's3://{bucket}/{LAB_PREFIX}/model/',\n",
    "              hyperparameters={'objective':'binary:logistic','num_round':50,'max_depth':4})\n",
    "est.fit({'train': TrainingInput(f's3://{bucket}/{TRAIN_PREFIX}', content_type='text/csv')})\n",
    "print('Model artifact:', est.model_data)"
   ]
  }
 ],
 "metadata": {},
 "nbformat": 4,
 "nbformat_minor": 5
}
